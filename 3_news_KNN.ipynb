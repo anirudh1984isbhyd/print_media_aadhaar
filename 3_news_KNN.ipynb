{
 "cells": [
  {
   "cell_type": "code",
   "execution_count": 2,
   "metadata": {
    "collapsed": true
   },
   "outputs": [],
   "source": [
    "## note that active directory is already set in the call to import below\n",
    "## refer to line 37 and line 38 of the function file\n",
    "\n",
    "from function_file_news_corpus import *\n"
   ]
  },
  {
   "cell_type": "code",
   "execution_count": 4,
   "metadata": {},
   "outputs": [
    {
     "data": {
      "text/html": [
       "<div>\n",
       "<style>\n",
       "    .dataframe thead tr:only-child th {\n",
       "        text-align: right;\n",
       "    }\n",
       "\n",
       "    .dataframe thead th {\n",
       "        text-align: left;\n",
       "    }\n",
       "\n",
       "    .dataframe tbody tr th {\n",
       "        vertical-align: top;\n",
       "    }\n",
       "</style>\n",
       "<table border=\"1\" class=\"dataframe\">\n",
       "  <thead>\n",
       "    <tr style=\"text-align: right;\">\n",
       "      <th></th>\n",
       "      <th>text</th>\n",
       "      <th>Heading</th>\n",
       "      <th>original_text</th>\n",
       "      <th>doct_no</th>\n",
       "      <th>aadhaar_count</th>\n",
       "      <th>num_date</th>\n",
       "    </tr>\n",
       "  </thead>\n",
       "  <tbody>\n",
       "    <tr>\n",
       "      <th>0</th>\n",
       "      <td>passion commitment research bedrock effort aim...</td>\n",
       "      <td>from aspiration to action</td>\n",
       "      <td>passion commitment and research are the bedro...</td>\n",
       "      <td>1</td>\n",
       "      <td>3</td>\n",
       "      <td>20180324</td>\n",
       "    </tr>\n",
       "    <tr>\n",
       "      <th>1</th>\n",
       "      <td>sudden spurt abroad seek police clearance cert...</td>\n",
       "      <td>single window for police clearance certificates</td>\n",
       "      <td>after sudden spurt in people going abroad see...</td>\n",
       "      <td>2</td>\n",
       "      <td>1</td>\n",
       "      <td>20180320</td>\n",
       "    </tr>\n",
       "    <tr>\n",
       "      <th>2</th>\n",
       "      <td>municipal commissioner hari narayanan instruct...</td>\n",
       "      <td>firm action to ensure waste segregation</td>\n",
       "      <td>municipal commissioner m. hari narayanan has ...</td>\n",
       "      <td>3</td>\n",
       "      <td>2</td>\n",
       "      <td>20180315</td>\n",
       "    </tr>\n",
       "    <tr>\n",
       "      <th>3</th>\n",
       "      <td>despite recent reiteration unique_identificati...</td>\n",
       "      <td>despite clause services continue to be denied...</td>\n",
       "      <td>despite recent reiteration by the unique iden...</td>\n",
       "      <td>4</td>\n",
       "      <td>16</td>\n",
       "      <td>20180311</td>\n",
       "    </tr>\n",
       "    <tr>\n",
       "      <th>4</th>\n",
       "      <td>state convention democratic alliance knowledge...</td>\n",
       "      <td>flaws in digital india project</td>\n",
       "      <td>the state convention of democratic alliance f...</td>\n",
       "      <td>5</td>\n",
       "      <td>1</td>\n",
       "      <td>20180311</td>\n",
       "    </tr>\n",
       "  </tbody>\n",
       "</table>\n",
       "</div>"
      ],
      "text/plain": [
       "                                                text  \\\n",
       "0  passion commitment research bedrock effort aim...   \n",
       "1  sudden spurt abroad seek police clearance cert...   \n",
       "2  municipal commissioner hari narayanan instruct...   \n",
       "3  despite recent reiteration unique_identificati...   \n",
       "4  state convention democratic alliance knowledge...   \n",
       "\n",
       "                                             Heading  \\\n",
       "0                         from aspiration to action    \n",
       "1   single window for police clearance certificates    \n",
       "2           firm action to ensure waste segregation    \n",
       "3   despite clause services continue to be denied...   \n",
       "4                    flaws in digital india project    \n",
       "\n",
       "                                       original_text  doct_no  aadhaar_count  \\\n",
       "0   passion commitment and research are the bedro...        1              3   \n",
       "1   after sudden spurt in people going abroad see...        2              1   \n",
       "2   municipal commissioner m. hari narayanan has ...        3              2   \n",
       "3   despite recent reiteration by the unique iden...        4             16   \n",
       "4   the state convention of democratic alliance f...        5              1   \n",
       "\n",
       "   num_date  \n",
       "0  20180324  \n",
       "1  20180320  \n",
       "2  20180315  \n",
       "3  20180311  \n",
       "4  20180311  "
      ]
     },
     "execution_count": 4,
     "metadata": {},
     "output_type": "execute_result"
    }
   ],
   "source": [
    "news_df = pd.read_pickle('final_clean_hindu_corpus.pkl')\n",
    "news_df.drop(['DateTime'], axis = 1, inplace = True)\n",
    "\n",
    "news_df.head()"
   ]
  },
  {
   "cell_type": "code",
   "execution_count": 5,
   "metadata": {},
   "outputs": [
    {
     "name": "stdout",
     "output_type": "stream",
     "text": [
      "[t-SNE] Computing 91 nearest neighbors...\n",
      "[t-SNE] Indexed 2614 samples in 0.003s...\n",
      "[t-SNE] Computed neighbors for 2614 samples in 0.413s...\n",
      "[t-SNE] Computed conditional probabilities for sample 1000 / 2614\n",
      "[t-SNE] Computed conditional probabilities for sample 2000 / 2614\n",
      "[t-SNE] Computed conditional probabilities for sample 2614 / 2614\n",
      "[t-SNE] Mean sigma: 0.035948\n",
      "[t-SNE] KL divergence after 250 iterations with early exaggeration: 75.721680\n",
      "[t-SNE] Error after 1000 iterations: 1.112893\n"
     ]
    }
   ],
   "source": [
    "## note that active directory is already set in the call to import below\n",
    "## use K_m_cluster in line 624 of the function_file_news_corpus.py\n",
    "\n",
    "K_m_df =  K_m_cluster (29, news_df, 'text', 20 )\n"
   ]
  },
  {
   "cell_type": "code",
   "execution_count": 6,
   "metadata": {},
   "outputs": [
    {
     "data": {
      "text/html": [
       "<div>\n",
       "<style>\n",
       "    .dataframe thead tr:only-child th {\n",
       "        text-align: right;\n",
       "    }\n",
       "\n",
       "    .dataframe thead th {\n",
       "        text-align: left;\n",
       "    }\n",
       "\n",
       "    .dataframe tbody tr th {\n",
       "        vertical-align: top;\n",
       "    }\n",
       "</style>\n",
       "<table border=\"1\" class=\"dataframe\">\n",
       "  <thead>\n",
       "    <tr style=\"text-align: right;\">\n",
       "      <th></th>\n",
       "      <th>x</th>\n",
       "      <th>y</th>\n",
       "      <th>cluster</th>\n",
       "      <th>text</th>\n",
       "      <th>colors</th>\n",
       "    </tr>\n",
       "  </thead>\n",
       "  <tbody>\n",
       "    <tr>\n",
       "      <th>0</th>\n",
       "      <td>14.781120</td>\n",
       "      <td>40.565189</td>\n",
       "      <td>9</td>\n",
       "      <td>passion commitment research bedrock effort aim...</td>\n",
       "      <td>#5fdfa8</td>\n",
       "    </tr>\n",
       "    <tr>\n",
       "      <th>1</th>\n",
       "      <td>53.794769</td>\n",
       "      <td>15.012349</td>\n",
       "      <td>0</td>\n",
       "      <td>sudden spurt abroad seek police clearance cert...</td>\n",
       "      <td>#6d8dca</td>\n",
       "    </tr>\n",
       "    <tr>\n",
       "      <th>2</th>\n",
       "      <td>1.482705</td>\n",
       "      <td>21.317122</td>\n",
       "      <td>9</td>\n",
       "      <td>municipal commissioner hari narayanan instruct...</td>\n",
       "      <td>#5fdfa8</td>\n",
       "    </tr>\n",
       "    <tr>\n",
       "      <th>3</th>\n",
       "      <td>-41.495804</td>\n",
       "      <td>-7.041039</td>\n",
       "      <td>21</td>\n",
       "      <td>despite recent reiteration unique_identificati...</td>\n",
       "      <td>#bdd8a3</td>\n",
       "    </tr>\n",
       "    <tr>\n",
       "      <th>4</th>\n",
       "      <td>3.621058</td>\n",
       "      <td>-16.292051</td>\n",
       "      <td>21</td>\n",
       "      <td>state convention democratic alliance knowledge...</td>\n",
       "      <td>#bdd8a3</td>\n",
       "    </tr>\n",
       "  </tbody>\n",
       "</table>\n",
       "</div>"
      ],
      "text/plain": [
       "           x          y  cluster  \\\n",
       "0  14.781120  40.565189        9   \n",
       "1  53.794769  15.012349        0   \n",
       "2   1.482705  21.317122        9   \n",
       "3 -41.495804  -7.041039       21   \n",
       "4   3.621058 -16.292051       21   \n",
       "\n",
       "                                                text   colors  \n",
       "0  passion commitment research bedrock effort aim...  #5fdfa8  \n",
       "1  sudden spurt abroad seek police clearance cert...  #6d8dca  \n",
       "2  municipal commissioner hari narayanan instruct...  #5fdfa8  \n",
       "3  despite recent reiteration unique_identificati...  #bdd8a3  \n",
       "4  state convention democratic alliance knowledge...  #bdd8a3  "
      ]
     },
     "execution_count": 6,
     "metadata": {},
     "output_type": "execute_result"
    }
   ],
   "source": [
    "K_m_df.head()"
   ]
  },
  {
   "cell_type": "code",
   "execution_count": null,
   "metadata": {
    "collapsed": true
   },
   "outputs": [],
   "source": []
  }
 ],
 "metadata": {
  "kernelspec": {
   "display_name": "Python 3",
   "language": "python",
   "name": "python3"
  },
  "language_info": {
   "codemirror_mode": {
    "name": "ipython",
    "version": 3
   },
   "file_extension": ".py",
   "mimetype": "text/x-python",
   "name": "python",
   "nbconvert_exporter": "python",
   "pygments_lexer": "ipython3",
   "version": "3.6.1"
  },
  "varInspector": {
   "cols": {
    "lenName": 16,
    "lenType": 16,
    "lenVar": 40
   },
   "kernels_config": {
    "python": {
     "delete_cmd_postfix": "",
     "delete_cmd_prefix": "del ",
     "library": "var_list.py",
     "varRefreshCmd": "print(var_dic_list())"
    },
    "r": {
     "delete_cmd_postfix": ") ",
     "delete_cmd_prefix": "rm(",
     "library": "var_list.r",
     "varRefreshCmd": "cat(var_dic_list()) "
    }
   },
   "types_to_exclude": [
    "module",
    "function",
    "builtin_function_or_method",
    "instance",
    "_Feature"
   ],
   "window_display": false
  }
 },
 "nbformat": 4,
 "nbformat_minor": 2
}
